{
  "nbformat": 4,
  "nbformat_minor": 0,
  "metadata": {
    "colab": {
      "provenance": [],
      "machine_shape": "hm",
      "gpuType": "A100"
    },
    "kernelspec": {
      "name": "python3",
      "display_name": "Python 3"
    },
    "language_info": {
      "name": "python"
    },
    "accelerator": "GPU",
    "widgets": {
      "application/vnd.jupyter.widget-state+json": {
        "26d349d2384f4836afcc7120d885295d": {
          "model_module": "@jupyter-widgets/controls",
          "model_name": "HBoxModel",
          "model_module_version": "1.5.0",
          "state": {
            "_dom_classes": [],
            "_model_module": "@jupyter-widgets/controls",
            "_model_module_version": "1.5.0",
            "_model_name": "HBoxModel",
            "_view_count": null,
            "_view_module": "@jupyter-widgets/controls",
            "_view_module_version": "1.5.0",
            "_view_name": "HBoxView",
            "box_style": "",
            "children": [
              "IPY_MODEL_99907c2644f440d695ea90ec0fe3114f",
              "IPY_MODEL_c1c698d5e0c544448cc8f785a06afa60",
              "IPY_MODEL_6927643517044362beabee0b6732ea7e"
            ],
            "layout": "IPY_MODEL_68c5ba9935d54f6bb4c88c336537356b"
          }
        },
        "99907c2644f440d695ea90ec0fe3114f": {
          "model_module": "@jupyter-widgets/controls",
          "model_name": "HTMLModel",
          "model_module_version": "1.5.0",
          "state": {
            "_dom_classes": [],
            "_model_module": "@jupyter-widgets/controls",
            "_model_module_version": "1.5.0",
            "_model_name": "HTMLModel",
            "_view_count": null,
            "_view_module": "@jupyter-widgets/controls",
            "_view_module_version": "1.5.0",
            "_view_name": "HTMLView",
            "description": "",
            "description_tooltip": null,
            "layout": "IPY_MODEL_15cf7fd145fe4c1ba17909788832ffb2",
            "placeholder": "​",
            "style": "IPY_MODEL_6fbccdcea2ce4b639adfd444d0ce8c00",
            "value": "Map: 100%"
          }
        },
        "c1c698d5e0c544448cc8f785a06afa60": {
          "model_module": "@jupyter-widgets/controls",
          "model_name": "FloatProgressModel",
          "model_module_version": "1.5.0",
          "state": {
            "_dom_classes": [],
            "_model_module": "@jupyter-widgets/controls",
            "_model_module_version": "1.5.0",
            "_model_name": "FloatProgressModel",
            "_view_count": null,
            "_view_module": "@jupyter-widgets/controls",
            "_view_module_version": "1.5.0",
            "_view_name": "ProgressView",
            "bar_style": "success",
            "description": "",
            "description_tooltip": null,
            "layout": "IPY_MODEL_f6f33fff5e424db08d6df465d40a4dee",
            "max": 15499,
            "min": 0,
            "orientation": "horizontal",
            "style": "IPY_MODEL_a3c7c8ead3dc475481042c04ef2307b1",
            "value": 15499
          }
        },
        "6927643517044362beabee0b6732ea7e": {
          "model_module": "@jupyter-widgets/controls",
          "model_name": "HTMLModel",
          "model_module_version": "1.5.0",
          "state": {
            "_dom_classes": [],
            "_model_module": "@jupyter-widgets/controls",
            "_model_module_version": "1.5.0",
            "_model_name": "HTMLModel",
            "_view_count": null,
            "_view_module": "@jupyter-widgets/controls",
            "_view_module_version": "1.5.0",
            "_view_name": "HTMLView",
            "description": "",
            "description_tooltip": null,
            "layout": "IPY_MODEL_715ffa80053f488ca11cc13e1effde0a",
            "placeholder": "​",
            "style": "IPY_MODEL_e10e1c6f8edb4e47a931090d6ddb4212",
            "value": " 15499/15499 [00:04&lt;00:00, 3435.88 examples/s]"
          }
        },
        "68c5ba9935d54f6bb4c88c336537356b": {
          "model_module": "@jupyter-widgets/base",
          "model_name": "LayoutModel",
          "model_module_version": "1.2.0",
          "state": {
            "_model_module": "@jupyter-widgets/base",
            "_model_module_version": "1.2.0",
            "_model_name": "LayoutModel",
            "_view_count": null,
            "_view_module": "@jupyter-widgets/base",
            "_view_module_version": "1.2.0",
            "_view_name": "LayoutView",
            "align_content": null,
            "align_items": null,
            "align_self": null,
            "border": null,
            "bottom": null,
            "display": null,
            "flex": null,
            "flex_flow": null,
            "grid_area": null,
            "grid_auto_columns": null,
            "grid_auto_flow": null,
            "grid_auto_rows": null,
            "grid_column": null,
            "grid_gap": null,
            "grid_row": null,
            "grid_template_areas": null,
            "grid_template_columns": null,
            "grid_template_rows": null,
            "height": null,
            "justify_content": null,
            "justify_items": null,
            "left": null,
            "margin": null,
            "max_height": null,
            "max_width": null,
            "min_height": null,
            "min_width": null,
            "object_fit": null,
            "object_position": null,
            "order": null,
            "overflow": null,
            "overflow_x": null,
            "overflow_y": null,
            "padding": null,
            "right": null,
            "top": null,
            "visibility": null,
            "width": null
          }
        },
        "15cf7fd145fe4c1ba17909788832ffb2": {
          "model_module": "@jupyter-widgets/base",
          "model_name": "LayoutModel",
          "model_module_version": "1.2.0",
          "state": {
            "_model_module": "@jupyter-widgets/base",
            "_model_module_version": "1.2.0",
            "_model_name": "LayoutModel",
            "_view_count": null,
            "_view_module": "@jupyter-widgets/base",
            "_view_module_version": "1.2.0",
            "_view_name": "LayoutView",
            "align_content": null,
            "align_items": null,
            "align_self": null,
            "border": null,
            "bottom": null,
            "display": null,
            "flex": null,
            "flex_flow": null,
            "grid_area": null,
            "grid_auto_columns": null,
            "grid_auto_flow": null,
            "grid_auto_rows": null,
            "grid_column": null,
            "grid_gap": null,
            "grid_row": null,
            "grid_template_areas": null,
            "grid_template_columns": null,
            "grid_template_rows": null,
            "height": null,
            "justify_content": null,
            "justify_items": null,
            "left": null,
            "margin": null,
            "max_height": null,
            "max_width": null,
            "min_height": null,
            "min_width": null,
            "object_fit": null,
            "object_position": null,
            "order": null,
            "overflow": null,
            "overflow_x": null,
            "overflow_y": null,
            "padding": null,
            "right": null,
            "top": null,
            "visibility": null,
            "width": null
          }
        },
        "6fbccdcea2ce4b639adfd444d0ce8c00": {
          "model_module": "@jupyter-widgets/controls",
          "model_name": "DescriptionStyleModel",
          "model_module_version": "1.5.0",
          "state": {
            "_model_module": "@jupyter-widgets/controls",
            "_model_module_version": "1.5.0",
            "_model_name": "DescriptionStyleModel",
            "_view_count": null,
            "_view_module": "@jupyter-widgets/base",
            "_view_module_version": "1.2.0",
            "_view_name": "StyleView",
            "description_width": ""
          }
        },
        "f6f33fff5e424db08d6df465d40a4dee": {
          "model_module": "@jupyter-widgets/base",
          "model_name": "LayoutModel",
          "model_module_version": "1.2.0",
          "state": {
            "_model_module": "@jupyter-widgets/base",
            "_model_module_version": "1.2.0",
            "_model_name": "LayoutModel",
            "_view_count": null,
            "_view_module": "@jupyter-widgets/base",
            "_view_module_version": "1.2.0",
            "_view_name": "LayoutView",
            "align_content": null,
            "align_items": null,
            "align_self": null,
            "border": null,
            "bottom": null,
            "display": null,
            "flex": null,
            "flex_flow": null,
            "grid_area": null,
            "grid_auto_columns": null,
            "grid_auto_flow": null,
            "grid_auto_rows": null,
            "grid_column": null,
            "grid_gap": null,
            "grid_row": null,
            "grid_template_areas": null,
            "grid_template_columns": null,
            "grid_template_rows": null,
            "height": null,
            "justify_content": null,
            "justify_items": null,
            "left": null,
            "margin": null,
            "max_height": null,
            "max_width": null,
            "min_height": null,
            "min_width": null,
            "object_fit": null,
            "object_position": null,
            "order": null,
            "overflow": null,
            "overflow_x": null,
            "overflow_y": null,
            "padding": null,
            "right": null,
            "top": null,
            "visibility": null,
            "width": null
          }
        },
        "a3c7c8ead3dc475481042c04ef2307b1": {
          "model_module": "@jupyter-widgets/controls",
          "model_name": "ProgressStyleModel",
          "model_module_version": "1.5.0",
          "state": {
            "_model_module": "@jupyter-widgets/controls",
            "_model_module_version": "1.5.0",
            "_model_name": "ProgressStyleModel",
            "_view_count": null,
            "_view_module": "@jupyter-widgets/base",
            "_view_module_version": "1.2.0",
            "_view_name": "StyleView",
            "bar_color": null,
            "description_width": ""
          }
        },
        "715ffa80053f488ca11cc13e1effde0a": {
          "model_module": "@jupyter-widgets/base",
          "model_name": "LayoutModel",
          "model_module_version": "1.2.0",
          "state": {
            "_model_module": "@jupyter-widgets/base",
            "_model_module_version": "1.2.0",
            "_model_name": "LayoutModel",
            "_view_count": null,
            "_view_module": "@jupyter-widgets/base",
            "_view_module_version": "1.2.0",
            "_view_name": "LayoutView",
            "align_content": null,
            "align_items": null,
            "align_self": null,
            "border": null,
            "bottom": null,
            "display": null,
            "flex": null,
            "flex_flow": null,
            "grid_area": null,
            "grid_auto_columns": null,
            "grid_auto_flow": null,
            "grid_auto_rows": null,
            "grid_column": null,
            "grid_gap": null,
            "grid_row": null,
            "grid_template_areas": null,
            "grid_template_columns": null,
            "grid_template_rows": null,
            "height": null,
            "justify_content": null,
            "justify_items": null,
            "left": null,
            "margin": null,
            "max_height": null,
            "max_width": null,
            "min_height": null,
            "min_width": null,
            "object_fit": null,
            "object_position": null,
            "order": null,
            "overflow": null,
            "overflow_x": null,
            "overflow_y": null,
            "padding": null,
            "right": null,
            "top": null,
            "visibility": null,
            "width": null
          }
        },
        "e10e1c6f8edb4e47a931090d6ddb4212": {
          "model_module": "@jupyter-widgets/controls",
          "model_name": "DescriptionStyleModel",
          "model_module_version": "1.5.0",
          "state": {
            "_model_module": "@jupyter-widgets/controls",
            "_model_module_version": "1.5.0",
            "_model_name": "DescriptionStyleModel",
            "_view_count": null,
            "_view_module": "@jupyter-widgets/base",
            "_view_module_version": "1.2.0",
            "_view_name": "StyleView",
            "description_width": ""
          }
        },
        "beb53eef570e488db834d11eedd92f3d": {
          "model_module": "@jupyter-widgets/controls",
          "model_name": "HBoxModel",
          "model_module_version": "1.5.0",
          "state": {
            "_dom_classes": [],
            "_model_module": "@jupyter-widgets/controls",
            "_model_module_version": "1.5.0",
            "_model_name": "HBoxModel",
            "_view_count": null,
            "_view_module": "@jupyter-widgets/controls",
            "_view_module_version": "1.5.0",
            "_view_name": "HBoxView",
            "box_style": "",
            "children": [
              "IPY_MODEL_ffcfbd0a590b4da09ee5fc181eb5e7fd",
              "IPY_MODEL_c01dbea5d7cb41d9ab3a564afcaf3b9d",
              "IPY_MODEL_3a089464aad1419bb773df892e437200"
            ],
            "layout": "IPY_MODEL_0dc30cf1dcbc46319bbaf5c10529da16"
          }
        },
        "ffcfbd0a590b4da09ee5fc181eb5e7fd": {
          "model_module": "@jupyter-widgets/controls",
          "model_name": "HTMLModel",
          "model_module_version": "1.5.0",
          "state": {
            "_dom_classes": [],
            "_model_module": "@jupyter-widgets/controls",
            "_model_module_version": "1.5.0",
            "_model_name": "HTMLModel",
            "_view_count": null,
            "_view_module": "@jupyter-widgets/controls",
            "_view_module_version": "1.5.0",
            "_view_name": "HTMLView",
            "description": "",
            "description_tooltip": null,
            "layout": "IPY_MODEL_99ab3a28912d4addaf89357b7c1924b2",
            "placeholder": "​",
            "style": "IPY_MODEL_ab568238d8d54801aa001540001818cc",
            "value": "Map: 100%"
          }
        },
        "c01dbea5d7cb41d9ab3a564afcaf3b9d": {
          "model_module": "@jupyter-widgets/controls",
          "model_name": "FloatProgressModel",
          "model_module_version": "1.5.0",
          "state": {
            "_dom_classes": [],
            "_model_module": "@jupyter-widgets/controls",
            "_model_module_version": "1.5.0",
            "_model_name": "FloatProgressModel",
            "_view_count": null,
            "_view_module": "@jupyter-widgets/controls",
            "_view_module_version": "1.5.0",
            "_view_name": "ProgressView",
            "bar_style": "success",
            "description": "",
            "description_tooltip": null,
            "layout": "IPY_MODEL_9b7931ee03864c458aa747950bb98f5c",
            "max": 3875,
            "min": 0,
            "orientation": "horizontal",
            "style": "IPY_MODEL_da0422fff4eb4ad59d49ab4ce59ea9db",
            "value": 3875
          }
        },
        "3a089464aad1419bb773df892e437200": {
          "model_module": "@jupyter-widgets/controls",
          "model_name": "HTMLModel",
          "model_module_version": "1.5.0",
          "state": {
            "_dom_classes": [],
            "_model_module": "@jupyter-widgets/controls",
            "_model_module_version": "1.5.0",
            "_model_name": "HTMLModel",
            "_view_count": null,
            "_view_module": "@jupyter-widgets/controls",
            "_view_module_version": "1.5.0",
            "_view_name": "HTMLView",
            "description": "",
            "description_tooltip": null,
            "layout": "IPY_MODEL_e12dc218dcd5475b9724cff61596110c",
            "placeholder": "​",
            "style": "IPY_MODEL_e695c1c18e394cb9bef4f5d0e19341c1",
            "value": " 3875/3875 [00:01&lt;00:00, 3756.72 examples/s]"
          }
        },
        "0dc30cf1dcbc46319bbaf5c10529da16": {
          "model_module": "@jupyter-widgets/base",
          "model_name": "LayoutModel",
          "model_module_version": "1.2.0",
          "state": {
            "_model_module": "@jupyter-widgets/base",
            "_model_module_version": "1.2.0",
            "_model_name": "LayoutModel",
            "_view_count": null,
            "_view_module": "@jupyter-widgets/base",
            "_view_module_version": "1.2.0",
            "_view_name": "LayoutView",
            "align_content": null,
            "align_items": null,
            "align_self": null,
            "border": null,
            "bottom": null,
            "display": null,
            "flex": null,
            "flex_flow": null,
            "grid_area": null,
            "grid_auto_columns": null,
            "grid_auto_flow": null,
            "grid_auto_rows": null,
            "grid_column": null,
            "grid_gap": null,
            "grid_row": null,
            "grid_template_areas": null,
            "grid_template_columns": null,
            "grid_template_rows": null,
            "height": null,
            "justify_content": null,
            "justify_items": null,
            "left": null,
            "margin": null,
            "max_height": null,
            "max_width": null,
            "min_height": null,
            "min_width": null,
            "object_fit": null,
            "object_position": null,
            "order": null,
            "overflow": null,
            "overflow_x": null,
            "overflow_y": null,
            "padding": null,
            "right": null,
            "top": null,
            "visibility": null,
            "width": null
          }
        },
        "99ab3a28912d4addaf89357b7c1924b2": {
          "model_module": "@jupyter-widgets/base",
          "model_name": "LayoutModel",
          "model_module_version": "1.2.0",
          "state": {
            "_model_module": "@jupyter-widgets/base",
            "_model_module_version": "1.2.0",
            "_model_name": "LayoutModel",
            "_view_count": null,
            "_view_module": "@jupyter-widgets/base",
            "_view_module_version": "1.2.0",
            "_view_name": "LayoutView",
            "align_content": null,
            "align_items": null,
            "align_self": null,
            "border": null,
            "bottom": null,
            "display": null,
            "flex": null,
            "flex_flow": null,
            "grid_area": null,
            "grid_auto_columns": null,
            "grid_auto_flow": null,
            "grid_auto_rows": null,
            "grid_column": null,
            "grid_gap": null,
            "grid_row": null,
            "grid_template_areas": null,
            "grid_template_columns": null,
            "grid_template_rows": null,
            "height": null,
            "justify_content": null,
            "justify_items": null,
            "left": null,
            "margin": null,
            "max_height": null,
            "max_width": null,
            "min_height": null,
            "min_width": null,
            "object_fit": null,
            "object_position": null,
            "order": null,
            "overflow": null,
            "overflow_x": null,
            "overflow_y": null,
            "padding": null,
            "right": null,
            "top": null,
            "visibility": null,
            "width": null
          }
        },
        "ab568238d8d54801aa001540001818cc": {
          "model_module": "@jupyter-widgets/controls",
          "model_name": "DescriptionStyleModel",
          "model_module_version": "1.5.0",
          "state": {
            "_model_module": "@jupyter-widgets/controls",
            "_model_module_version": "1.5.0",
            "_model_name": "DescriptionStyleModel",
            "_view_count": null,
            "_view_module": "@jupyter-widgets/base",
            "_view_module_version": "1.2.0",
            "_view_name": "StyleView",
            "description_width": ""
          }
        },
        "9b7931ee03864c458aa747950bb98f5c": {
          "model_module": "@jupyter-widgets/base",
          "model_name": "LayoutModel",
          "model_module_version": "1.2.0",
          "state": {
            "_model_module": "@jupyter-widgets/base",
            "_model_module_version": "1.2.0",
            "_model_name": "LayoutModel",
            "_view_count": null,
            "_view_module": "@jupyter-widgets/base",
            "_view_module_version": "1.2.0",
            "_view_name": "LayoutView",
            "align_content": null,
            "align_items": null,
            "align_self": null,
            "border": null,
            "bottom": null,
            "display": null,
            "flex": null,
            "flex_flow": null,
            "grid_area": null,
            "grid_auto_columns": null,
            "grid_auto_flow": null,
            "grid_auto_rows": null,
            "grid_column": null,
            "grid_gap": null,
            "grid_row": null,
            "grid_template_areas": null,
            "grid_template_columns": null,
            "grid_template_rows": null,
            "height": null,
            "justify_content": null,
            "justify_items": null,
            "left": null,
            "margin": null,
            "max_height": null,
            "max_width": null,
            "min_height": null,
            "min_width": null,
            "object_fit": null,
            "object_position": null,
            "order": null,
            "overflow": null,
            "overflow_x": null,
            "overflow_y": null,
            "padding": null,
            "right": null,
            "top": null,
            "visibility": null,
            "width": null
          }
        },
        "da0422fff4eb4ad59d49ab4ce59ea9db": {
          "model_module": "@jupyter-widgets/controls",
          "model_name": "ProgressStyleModel",
          "model_module_version": "1.5.0",
          "state": {
            "_model_module": "@jupyter-widgets/controls",
            "_model_module_version": "1.5.0",
            "_model_name": "ProgressStyleModel",
            "_view_count": null,
            "_view_module": "@jupyter-widgets/base",
            "_view_module_version": "1.2.0",
            "_view_name": "StyleView",
            "bar_color": null,
            "description_width": ""
          }
        },
        "e12dc218dcd5475b9724cff61596110c": {
          "model_module": "@jupyter-widgets/base",
          "model_name": "LayoutModel",
          "model_module_version": "1.2.0",
          "state": {
            "_model_module": "@jupyter-widgets/base",
            "_model_module_version": "1.2.0",
            "_model_name": "LayoutModel",
            "_view_count": null,
            "_view_module": "@jupyter-widgets/base",
            "_view_module_version": "1.2.0",
            "_view_name": "LayoutView",
            "align_content": null,
            "align_items": null,
            "align_self": null,
            "border": null,
            "bottom": null,
            "display": null,
            "flex": null,
            "flex_flow": null,
            "grid_area": null,
            "grid_auto_columns": null,
            "grid_auto_flow": null,
            "grid_auto_rows": null,
            "grid_column": null,
            "grid_gap": null,
            "grid_row": null,
            "grid_template_areas": null,
            "grid_template_columns": null,
            "grid_template_rows": null,
            "height": null,
            "justify_content": null,
            "justify_items": null,
            "left": null,
            "margin": null,
            "max_height": null,
            "max_width": null,
            "min_height": null,
            "min_width": null,
            "object_fit": null,
            "object_position": null,
            "order": null,
            "overflow": null,
            "overflow_x": null,
            "overflow_y": null,
            "padding": null,
            "right": null,
            "top": null,
            "visibility": null,
            "width": null
          }
        },
        "e695c1c18e394cb9bef4f5d0e19341c1": {
          "model_module": "@jupyter-widgets/controls",
          "model_name": "DescriptionStyleModel",
          "model_module_version": "1.5.0",
          "state": {
            "_model_module": "@jupyter-widgets/controls",
            "_model_module_version": "1.5.0",
            "_model_name": "DescriptionStyleModel",
            "_view_count": null,
            "_view_module": "@jupyter-widgets/base",
            "_view_module_version": "1.2.0",
            "_view_name": "StyleView",
            "description_width": ""
          }
        }
      }
    }
  },
  "cells": [
    {
      "cell_type": "code",
      "source": [
        "!pip install datasets\n",
        "!pip install evaluate"
      ],
      "metadata": {
        "colab": {
          "base_uri": "https://localhost:8080/"
        },
        "id": "1mrlQ3g_xuWP",
        "outputId": "35170275-1469-4c56-81e4-e359ed4416e0"
      },
      "execution_count": 1,
      "outputs": [
        {
          "output_type": "stream",
          "name": "stdout",
          "text": [
            "Requirement already satisfied: datasets in /usr/local/lib/python3.10/dist-packages (3.0.0)\n",
            "Requirement already satisfied: filelock in /usr/local/lib/python3.10/dist-packages (from datasets) (3.16.0)\n",
            "Requirement already satisfied: numpy>=1.17 in /usr/local/lib/python3.10/dist-packages (from datasets) (1.26.4)\n",
            "Requirement already satisfied: pyarrow>=15.0.0 in /usr/local/lib/python3.10/dist-packages (from datasets) (17.0.0)\n",
            "Requirement already satisfied: dill<0.3.9,>=0.3.0 in /usr/local/lib/python3.10/dist-packages (from datasets) (0.3.8)\n",
            "Requirement already satisfied: pandas in /usr/local/lib/python3.10/dist-packages (from datasets) (2.1.4)\n",
            "Requirement already satisfied: requests>=2.32.2 in /usr/local/lib/python3.10/dist-packages (from datasets) (2.32.3)\n",
            "Requirement already satisfied: tqdm>=4.66.3 in /usr/local/lib/python3.10/dist-packages (from datasets) (4.66.5)\n",
            "Requirement already satisfied: xxhash in /usr/local/lib/python3.10/dist-packages (from datasets) (3.5.0)\n",
            "Requirement already satisfied: multiprocess in /usr/local/lib/python3.10/dist-packages (from datasets) (0.70.16)\n",
            "Requirement already satisfied: fsspec<=2024.6.1,>=2023.1.0 in /usr/local/lib/python3.10/dist-packages (from fsspec[http]<=2024.6.1,>=2023.1.0->datasets) (2024.6.1)\n",
            "Requirement already satisfied: aiohttp in /usr/local/lib/python3.10/dist-packages (from datasets) (3.10.5)\n",
            "Requirement already satisfied: huggingface-hub>=0.22.0 in /usr/local/lib/python3.10/dist-packages (from datasets) (0.24.6)\n",
            "Requirement already satisfied: packaging in /usr/local/lib/python3.10/dist-packages (from datasets) (24.1)\n",
            "Requirement already satisfied: pyyaml>=5.1 in /usr/local/lib/python3.10/dist-packages (from datasets) (6.0.2)\n",
            "Requirement already satisfied: aiohappyeyeballs>=2.3.0 in /usr/local/lib/python3.10/dist-packages (from aiohttp->datasets) (2.4.0)\n",
            "Requirement already satisfied: aiosignal>=1.1.2 in /usr/local/lib/python3.10/dist-packages (from aiohttp->datasets) (1.3.1)\n",
            "Requirement already satisfied: attrs>=17.3.0 in /usr/local/lib/python3.10/dist-packages (from aiohttp->datasets) (24.2.0)\n",
            "Requirement already satisfied: frozenlist>=1.1.1 in /usr/local/lib/python3.10/dist-packages (from aiohttp->datasets) (1.4.1)\n",
            "Requirement already satisfied: multidict<7.0,>=4.5 in /usr/local/lib/python3.10/dist-packages (from aiohttp->datasets) (6.1.0)\n",
            "Requirement already satisfied: yarl<2.0,>=1.0 in /usr/local/lib/python3.10/dist-packages (from aiohttp->datasets) (1.11.1)\n",
            "Requirement already satisfied: async-timeout<5.0,>=4.0 in /usr/local/lib/python3.10/dist-packages (from aiohttp->datasets) (4.0.3)\n",
            "Requirement already satisfied: typing-extensions>=3.7.4.3 in /usr/local/lib/python3.10/dist-packages (from huggingface-hub>=0.22.0->datasets) (4.12.2)\n",
            "Requirement already satisfied: charset-normalizer<4,>=2 in /usr/local/lib/python3.10/dist-packages (from requests>=2.32.2->datasets) (3.3.2)\n",
            "Requirement already satisfied: idna<4,>=2.5 in /usr/local/lib/python3.10/dist-packages (from requests>=2.32.2->datasets) (3.8)\n",
            "Requirement already satisfied: urllib3<3,>=1.21.1 in /usr/local/lib/python3.10/dist-packages (from requests>=2.32.2->datasets) (2.0.7)\n",
            "Requirement already satisfied: certifi>=2017.4.17 in /usr/local/lib/python3.10/dist-packages (from requests>=2.32.2->datasets) (2024.8.30)\n",
            "Requirement already satisfied: python-dateutil>=2.8.2 in /usr/local/lib/python3.10/dist-packages (from pandas->datasets) (2.8.2)\n",
            "Requirement already satisfied: pytz>=2020.1 in /usr/local/lib/python3.10/dist-packages (from pandas->datasets) (2024.2)\n",
            "Requirement already satisfied: tzdata>=2022.1 in /usr/local/lib/python3.10/dist-packages (from pandas->datasets) (2024.1)\n",
            "Requirement already satisfied: six>=1.5 in /usr/local/lib/python3.10/dist-packages (from python-dateutil>=2.8.2->pandas->datasets) (1.16.0)\n",
            "Requirement already satisfied: evaluate in /usr/local/lib/python3.10/dist-packages (0.4.3)\n",
            "Requirement already satisfied: datasets>=2.0.0 in /usr/local/lib/python3.10/dist-packages (from evaluate) (3.0.0)\n",
            "Requirement already satisfied: numpy>=1.17 in /usr/local/lib/python3.10/dist-packages (from evaluate) (1.26.4)\n",
            "Requirement already satisfied: dill in /usr/local/lib/python3.10/dist-packages (from evaluate) (0.3.8)\n",
            "Requirement already satisfied: pandas in /usr/local/lib/python3.10/dist-packages (from evaluate) (2.1.4)\n",
            "Requirement already satisfied: requests>=2.19.0 in /usr/local/lib/python3.10/dist-packages (from evaluate) (2.32.3)\n",
            "Requirement already satisfied: tqdm>=4.62.1 in /usr/local/lib/python3.10/dist-packages (from evaluate) (4.66.5)\n",
            "Requirement already satisfied: xxhash in /usr/local/lib/python3.10/dist-packages (from evaluate) (3.5.0)\n",
            "Requirement already satisfied: multiprocess in /usr/local/lib/python3.10/dist-packages (from evaluate) (0.70.16)\n",
            "Requirement already satisfied: fsspec>=2021.05.0 in /usr/local/lib/python3.10/dist-packages (from fsspec[http]>=2021.05.0->evaluate) (2024.6.1)\n",
            "Requirement already satisfied: huggingface-hub>=0.7.0 in /usr/local/lib/python3.10/dist-packages (from evaluate) (0.24.6)\n",
            "Requirement already satisfied: packaging in /usr/local/lib/python3.10/dist-packages (from evaluate) (24.1)\n",
            "Requirement already satisfied: filelock in /usr/local/lib/python3.10/dist-packages (from datasets>=2.0.0->evaluate) (3.16.0)\n",
            "Requirement already satisfied: pyarrow>=15.0.0 in /usr/local/lib/python3.10/dist-packages (from datasets>=2.0.0->evaluate) (17.0.0)\n",
            "Requirement already satisfied: aiohttp in /usr/local/lib/python3.10/dist-packages (from datasets>=2.0.0->evaluate) (3.10.5)\n",
            "Requirement already satisfied: pyyaml>=5.1 in /usr/local/lib/python3.10/dist-packages (from datasets>=2.0.0->evaluate) (6.0.2)\n",
            "Requirement already satisfied: typing-extensions>=3.7.4.3 in /usr/local/lib/python3.10/dist-packages (from huggingface-hub>=0.7.0->evaluate) (4.12.2)\n",
            "Requirement already satisfied: charset-normalizer<4,>=2 in /usr/local/lib/python3.10/dist-packages (from requests>=2.19.0->evaluate) (3.3.2)\n",
            "Requirement already satisfied: idna<4,>=2.5 in /usr/local/lib/python3.10/dist-packages (from requests>=2.19.0->evaluate) (3.8)\n",
            "Requirement already satisfied: urllib3<3,>=1.21.1 in /usr/local/lib/python3.10/dist-packages (from requests>=2.19.0->evaluate) (2.0.7)\n",
            "Requirement already satisfied: certifi>=2017.4.17 in /usr/local/lib/python3.10/dist-packages (from requests>=2.19.0->evaluate) (2024.8.30)\n",
            "Requirement already satisfied: python-dateutil>=2.8.2 in /usr/local/lib/python3.10/dist-packages (from pandas->evaluate) (2.8.2)\n",
            "Requirement already satisfied: pytz>=2020.1 in /usr/local/lib/python3.10/dist-packages (from pandas->evaluate) (2024.2)\n",
            "Requirement already satisfied: tzdata>=2022.1 in /usr/local/lib/python3.10/dist-packages (from pandas->evaluate) (2024.1)\n",
            "Requirement already satisfied: aiohappyeyeballs>=2.3.0 in /usr/local/lib/python3.10/dist-packages (from aiohttp->datasets>=2.0.0->evaluate) (2.4.0)\n",
            "Requirement already satisfied: aiosignal>=1.1.2 in /usr/local/lib/python3.10/dist-packages (from aiohttp->datasets>=2.0.0->evaluate) (1.3.1)\n",
            "Requirement already satisfied: attrs>=17.3.0 in /usr/local/lib/python3.10/dist-packages (from aiohttp->datasets>=2.0.0->evaluate) (24.2.0)\n",
            "Requirement already satisfied: frozenlist>=1.1.1 in /usr/local/lib/python3.10/dist-packages (from aiohttp->datasets>=2.0.0->evaluate) (1.4.1)\n",
            "Requirement already satisfied: multidict<7.0,>=4.5 in /usr/local/lib/python3.10/dist-packages (from aiohttp->datasets>=2.0.0->evaluate) (6.1.0)\n",
            "Requirement already satisfied: yarl<2.0,>=1.0 in /usr/local/lib/python3.10/dist-packages (from aiohttp->datasets>=2.0.0->evaluate) (1.11.1)\n",
            "Requirement already satisfied: async-timeout<5.0,>=4.0 in /usr/local/lib/python3.10/dist-packages (from aiohttp->datasets>=2.0.0->evaluate) (4.0.3)\n",
            "Requirement already satisfied: six>=1.5 in /usr/local/lib/python3.10/dist-packages (from python-dateutil>=2.8.2->pandas->evaluate) (1.16.0)\n"
          ]
        }
      ]
    },
    {
      "cell_type": "code",
      "execution_count": 2,
      "metadata": {
        "id": "bNAXLpBwxViH"
      },
      "outputs": [],
      "source": [
        "import torch\n",
        "from transformers import AutoModelForSequenceClassification\n",
        "from transformers import AutoTokenizer\n",
        "import pickle\n",
        "from datasets import Dataset, DatasetDict\n",
        "from transformers import TrainingArguments, Trainer\n",
        "import numpy as np\n",
        "import evaluate"
      ]
    },
    {
      "cell_type": "code",
      "source": [
        "device = torch.device('cuda' if torch.cuda.is_available() else 'cpu')\n",
        "model_path = '/content/drive/MyDrive/klue'\n",
        "\n",
        "model = AutoModelForSequenceClassification.from_pretrained(model_path, num_labels=7).to(device)\n",
        "\n",
        "tokenizer = AutoTokenizer.from_pretrained(model_path)"
      ],
      "metadata": {
        "colab": {
          "base_uri": "https://localhost:8080/"
        },
        "id": "uBohkskHx-im",
        "outputId": "8de95479-60f4-4dcc-a3fa-c72495c7f160"
      },
      "execution_count": 3,
      "outputs": [
        {
          "output_type": "stream",
          "name": "stderr",
          "text": [
            "Some weights of BertForSequenceClassification were not initialized from the model checkpoint at /content/drive/MyDrive/klue and are newly initialized: ['classifier.bias', 'classifier.weight']\n",
            "You should probably TRAIN this model on a down-stream task to be able to use it for predictions and inference.\n",
            "/usr/local/lib/python3.10/dist-packages/transformers/tokenization_utils_base.py:1601: FutureWarning: `clean_up_tokenization_spaces` was not set. It will be set to `True` by default. This behavior will be depracted in transformers v4.45, and will be then set to `False` by default. For more details check this issue: https://github.com/huggingface/transformers/issues/31884\n",
            "  warnings.warn(\n"
          ]
        }
      ]
    },
    {
      "cell_type": "code",
      "source": [
        "data_path = '/content/drive/MyDrive/pkl/senti.pkl'\n",
        "\n",
        "with open(data_path, 'rb') as file:\n",
        "    data = pickle.load(file)\n",
        "\n",
        "# 데이터 형식을 맞춤\n",
        "formatted_data = {'text': [item[0] for item in data], 'label': [int(item[1]) for item in data]}\n",
        "\n",
        "# Dataset 객체로 변환\n",
        "dataset = Dataset.from_dict(formatted_data)\n",
        "\n",
        "# 데이터셋을 train, test로 분할\n",
        "train_test_split = dataset.train_test_split(test_size=0.2)  # 20%를 테스트 데이터로 사용\n",
        "\n",
        "# DatasetDict 객체로 변환\n",
        "dataset_dict = DatasetDict({\n",
        "    'train': train_test_split['train'],\n",
        "    'test': train_test_split['test']\n",
        "})\n",
        "\n",
        "def tokenize_function(examples):\n",
        "    return tokenizer(examples[\"text\"], padding=\"max_length\", truncation=True)\n",
        "\n",
        "\n",
        "tokenized_datasets = dataset_dict.map(tokenize_function, batched=True)"
      ],
      "metadata": {
        "colab": {
          "base_uri": "https://localhost:8080/",
          "height": 81,
          "referenced_widgets": [
            "26d349d2384f4836afcc7120d885295d",
            "99907c2644f440d695ea90ec0fe3114f",
            "c1c698d5e0c544448cc8f785a06afa60",
            "6927643517044362beabee0b6732ea7e",
            "68c5ba9935d54f6bb4c88c336537356b",
            "15cf7fd145fe4c1ba17909788832ffb2",
            "6fbccdcea2ce4b639adfd444d0ce8c00",
            "f6f33fff5e424db08d6df465d40a4dee",
            "a3c7c8ead3dc475481042c04ef2307b1",
            "715ffa80053f488ca11cc13e1effde0a",
            "e10e1c6f8edb4e47a931090d6ddb4212",
            "beb53eef570e488db834d11eedd92f3d",
            "ffcfbd0a590b4da09ee5fc181eb5e7fd",
            "c01dbea5d7cb41d9ab3a564afcaf3b9d",
            "3a089464aad1419bb773df892e437200",
            "0dc30cf1dcbc46319bbaf5c10529da16",
            "99ab3a28912d4addaf89357b7c1924b2",
            "ab568238d8d54801aa001540001818cc",
            "9b7931ee03864c458aa747950bb98f5c",
            "da0422fff4eb4ad59d49ab4ce59ea9db",
            "e12dc218dcd5475b9724cff61596110c",
            "e695c1c18e394cb9bef4f5d0e19341c1"
          ]
        },
        "id": "yPgAGxFnyHJa",
        "outputId": "50afe548-767a-4f25-af34-fa8799aa1717"
      },
      "execution_count": 4,
      "outputs": [
        {
          "output_type": "display_data",
          "data": {
            "text/plain": [
              "Map:   0%|          | 0/15499 [00:00<?, ? examples/s]"
            ],
            "application/vnd.jupyter.widget-view+json": {
              "version_major": 2,
              "version_minor": 0,
              "model_id": "26d349d2384f4836afcc7120d885295d"
            }
          },
          "metadata": {}
        },
        {
          "output_type": "display_data",
          "data": {
            "text/plain": [
              "Map:   0%|          | 0/3875 [00:00<?, ? examples/s]"
            ],
            "application/vnd.jupyter.widget-view+json": {
              "version_major": 2,
              "version_minor": 0,
              "model_id": "beb53eef570e488db834d11eedd92f3d"
            }
          },
          "metadata": {}
        }
      ]
    },
    {
      "cell_type": "code",
      "source": [
        "training_args = TrainingArguments(\n",
        "    output_dir='./results',                      # 출력 디렉토리\n",
        "    evaluation_strategy=\"epoch\",                 # 매 에폭마다 평가\n",
        "    learning_rate=1e-5,                          # 학습률\n",
        "    per_device_train_batch_size=16,              # 학습 배치 크기\n",
        "    per_device_eval_batch_size=16,               # 평가 배치 크기\n",
        "    num_train_epochs=10,                         # 학습 에폭 수\n",
        "    weight_decay=0.01,                           # 가중치 감쇠\n",
        "    seed=42,                                     # 시드 값\n",
        "    lr_scheduler_type=\"linear\",                  # 학습률 스케줄러 타입\n",
        "    warmup_ratio=0.1,                            # 워밍업 비율\n",
        "    optim=\"adamw_torch\",                         # 옵티마이저 (기본값은 AdamW)\n",
        ")"
      ],
      "metadata": {
        "colab": {
          "base_uri": "https://localhost:8080/"
        },
        "id": "f0OUzuHiyPx_",
        "outputId": "22647821-287a-4111-8cd7-ee09809552a3"
      },
      "execution_count": 5,
      "outputs": [
        {
          "output_type": "stream",
          "name": "stderr",
          "text": [
            "/usr/local/lib/python3.10/dist-packages/transformers/training_args.py:1525: FutureWarning: `evaluation_strategy` is deprecated and will be removed in version 4.46 of 🤗 Transformers. Use `eval_strategy` instead\n",
            "  warnings.warn(\n"
          ]
        }
      ]
    },
    {
      "cell_type": "code",
      "source": [
        "accuracy_metric = evaluate.load(\"accuracy\")\n",
        "precision_metric = evaluate.load(\"precision\")\n",
        "recall_metric = evaluate.load(\"recall\")\n",
        "f1_metric = evaluate.load(\"f1\")\n",
        "\n",
        "\n",
        "def compute_metrics(eval_pred):\n",
        "    logits, labels = eval_pred\n",
        "    predictions = np.argmax(logits, axis=-1)\n",
        "\n",
        "    # Calculate accuracy\n",
        "    accuracy = accuracy_metric.compute(predictions=predictions, references=labels)\n",
        "\n",
        "    # Calculate precision, recall, f1-score for each class\n",
        "    precision = precision_metric.compute(predictions=predictions, references=labels, average=None)[\"precision\"]\n",
        "    recall = recall_metric.compute(predictions=predictions, references=labels, average=None)[\"recall\"]\n",
        "    f1 = f1_metric.compute(predictions=predictions, references=labels, average=None)[\"f1\"]\n",
        "\n",
        "    # Convert precision, recall, f1-score to lists\n",
        "    return {\n",
        "        \"accuracy\": accuracy[\"accuracy\"],\n",
        "        \"precision\": precision.tolist(),  # Convert NumPy array to list\n",
        "        \"recall\": recall.tolist(),        # Convert NumPy array to list\n",
        "        \"f1\": f1.tolist()                 # Convert NumPy array to list\n",
        "    }"
      ],
      "metadata": {
        "colab": {
          "base_uri": "https://localhost:8080/"
        },
        "id": "la_dCbggyXMy",
        "outputId": "60e685b2-bf5c-48f6-a6d3-75dcceb8a0ec"
      },
      "execution_count": 6,
      "outputs": [
        {
          "output_type": "stream",
          "name": "stderr",
          "text": [
            "/usr/local/lib/python3.10/dist-packages/huggingface_hub/utils/_token.py:89: UserWarning: \n",
            "The secret `HF_TOKEN` does not exist in your Colab secrets.\n",
            "To authenticate with the Hugging Face Hub, create a token in your settings tab (https://huggingface.co/settings/tokens), set it as secret in your Google Colab and restart your session.\n",
            "You will be able to reuse this secret in all of your notebooks.\n",
            "Please note that authentication is recommended but still optional to access public models or datasets.\n",
            "  warnings.warn(\n"
          ]
        }
      ]
    },
    {
      "cell_type": "code",
      "source": [
        "trainer = Trainer(\n",
        "    model=model,\n",
        "    args=training_args,\n",
        "    train_dataset=tokenized_datasets[\"train\"],\n",
        "    eval_dataset=tokenized_datasets[\"test\"],\n",
        "    compute_metrics=compute_metrics,\n",
        ")\n",
        "\n",
        "\n",
        "trainer.train()"
      ],
      "metadata": {
        "colab": {
          "base_uri": "https://localhost:8080/",
          "height": 1000
        },
        "id": "aD9VheW0yalj",
        "outputId": "dd949ae1-1f1a-4c73-be7d-3145f73c2591"
      },
      "execution_count": 7,
      "outputs": [
        {
          "output_type": "display_data",
          "data": {
            "text/plain": [
              "<IPython.core.display.HTML object>"
            ],
            "text/html": [
              "\n",
              "    <div>\n",
              "      \n",
              "      <progress value='9690' max='9690' style='width:300px; height:20px; vertical-align: middle;'></progress>\n",
              "      [9690/9690 57:18, Epoch 10/10]\n",
              "    </div>\n",
              "    <table border=\"1\" class=\"dataframe\">\n",
              "  <thead>\n",
              " <tr style=\"text-align: left;\">\n",
              "      <th>Epoch</th>\n",
              "      <th>Training Loss</th>\n",
              "      <th>Validation Loss</th>\n",
              "      <th>Accuracy</th>\n",
              "      <th>Precision</th>\n",
              "      <th>Recall</th>\n",
              "      <th>F1</th>\n",
              "    </tr>\n",
              "  </thead>\n",
              "  <tbody>\n",
              "    <tr>\n",
              "      <td>1</td>\n",
              "      <td>1.559600</td>\n",
              "      <td>0.332534</td>\n",
              "      <td>0.889548</td>\n",
              "      <td>[0.97265625, 0.9040697674418605, 0.890728476821192, 0.8242811501597445, 0.8611111111111112, 0.8887722980062959, 0.9730392156862745]</td>\n",
              "      <td>[0.8736842105263158, 0.9367469879518072, 0.8163884673748103, 0.8973913043478261, 0.8830584707646177, 0.9559819413092551, 0.8428874734607219]</td>\n",
              "      <td>[0.9205175600739373, 0.9201183431952663, 0.8519398258115598, 0.8592839300582847, 0.8719467061435974, 0.921152800435019, 0.9032992036405004]</td>\n",
              "    </tr>\n",
              "    <tr>\n",
              "      <td>2</td>\n",
              "      <td>0.280200</td>\n",
              "      <td>0.238902</td>\n",
              "      <td>0.923097</td>\n",
              "      <td>[0.9342560553633218, 0.9692307692307692, 0.8846153846153846, 0.9087779690189329, 0.9114114114114115, 0.94874715261959, 0.9260869565217391]</td>\n",
              "      <td>[0.9473684210526315, 0.9487951807228916, 0.9074355083459787, 0.9182608695652174, 0.9100449775112444, 0.9401805869074492, 0.9044585987261147]</td>\n",
              "      <td>[0.9407665505226481, 0.9589041095890412, 0.8958801498127341, 0.9134948096885813, 0.9107276819204801, 0.9444444444444444, 0.9151450053705692]</td>\n",
              "    </tr>\n",
              "    <tr>\n",
              "      <td>3</td>\n",
              "      <td>0.171200</td>\n",
              "      <td>0.267150</td>\n",
              "      <td>0.926968</td>\n",
              "      <td>[0.9640287769784173, 0.9668674698795181, 0.8849557522123894, 0.9402173913043478, 0.9410852713178295, 0.9217391304347826, 0.9127659574468086]</td>\n",
              "      <td>[0.9403508771929825, 0.9668674698795181, 0.9104704097116844, 0.9026086956521739, 0.9100449775112444, 0.9571106094808126, 0.910828025477707]</td>\n",
              "      <td>[0.9520426287744227, 0.9668674698795181, 0.8975317875841436, 0.9210292812777285, 0.9253048780487806, 0.9390919158361019, 0.9117959617428268]</td>\n",
              "    </tr>\n",
              "    <tr>\n",
              "      <td>4</td>\n",
              "      <td>0.114000</td>\n",
              "      <td>0.318735</td>\n",
              "      <td>0.923097</td>\n",
              "      <td>[0.9075907590759076, 0.9690402476780186, 0.9035222052067381, 0.9142367066895368, 0.95, 0.9355555555555556, 0.8823529411764706]</td>\n",
              "      <td>[0.9649122807017544, 0.9427710843373494, 0.8952959028831563, 0.9269565217391305, 0.8830584707646177, 0.9503386004514672, 0.9235668789808917]</td>\n",
              "      <td>[0.9353741496598639, 0.9557251908396946, 0.899390243902439, 0.920552677029361, 0.9153069153069152, 0.942889137737962, 0.9024896265560166]</td>\n",
              "    </tr>\n",
              "    <tr>\n",
              "      <td>5</td>\n",
              "      <td>0.089800</td>\n",
              "      <td>0.332362</td>\n",
              "      <td>0.928516</td>\n",
              "      <td>[0.967391304347826, 0.9697885196374623, 0.9019607843137255, 0.9155172413793103, 0.9492063492063492, 0.9390243902439024, 0.8843813387423936]</td>\n",
              "      <td>[0.9368421052631579, 0.9668674698795181, 0.9074355083459787, 0.9234782608695652, 0.896551724137931, 0.9559819413092551, 0.9256900212314225]</td>\n",
              "      <td>[0.9518716577540107, 0.9683257918552036, 0.9046898638426627, 0.9194805194805195, 0.9221279876638396, 0.9474272930648769, 0.9045643153526971]</td>\n",
              "    </tr>\n",
              "    <tr>\n",
              "      <td>6</td>\n",
              "      <td>0.067300</td>\n",
              "      <td>0.367516</td>\n",
              "      <td>0.928000</td>\n",
              "      <td>[0.9712230215827338, 0.9670658682634731, 0.8628005657708628, 0.955719557195572, 0.9433070866141732, 0.9298245614035088, 0.9164882226980728]</td>\n",
              "      <td>[0.9473684210526315, 0.9728915662650602, 0.9256449165402124, 0.9008695652173913, 0.8980509745127436, 0.9571106094808126, 0.9087048832271762]</td>\n",
              "      <td>[0.9591474245115452, 0.96996996996997, 0.8931185944363104, 0.9274843330349148, 0.9201228878648232, 0.9432703003337041, 0.9125799573560769]</td>\n",
              "    </tr>\n",
              "    <tr>\n",
              "      <td>7</td>\n",
              "      <td>0.052700</td>\n",
              "      <td>0.394032</td>\n",
              "      <td>0.926452</td>\n",
              "      <td>[0.9475524475524476, 0.9666666666666667, 0.8690647482014389, 0.9221453287197232, 0.9389671361502347, 0.9640371229698376, 0.8907216494845361]</td>\n",
              "      <td>[0.9508771929824561, 0.9608433734939759, 0.9165402124430956, 0.9269565217391305, 0.8995502248875562, 0.9379232505643341, 0.9171974522292994]</td>\n",
              "      <td>[0.9492119089316987, 0.9637462235649547, 0.8921713441654358, 0.9245446660884649, 0.9188361408882082, 0.9508009153318078, 0.9037656903765691]</td>\n",
              "    </tr>\n",
              "    <tr>\n",
              "      <td>8</td>\n",
              "      <td>0.036800</td>\n",
              "      <td>0.414990</td>\n",
              "      <td>0.929548</td>\n",
              "      <td>[0.9645390070921985, 0.95, 0.882525697503671, 0.9391771019677997, 0.940625, 0.9495515695067265, 0.8981288981288982]</td>\n",
              "      <td>[0.9543859649122807, 0.9728915662650602, 0.9119878603945372, 0.9130434782608695, 0.9025487256371814, 0.9559819413092551, 0.9171974522292994]</td>\n",
              "      <td>[0.9594356261022927, 0.9613095238095238, 0.8970149253731343, 0.9259259259259259, 0.9211935730680948, 0.952755905511811, 0.907563025210084]</td>\n",
              "    </tr>\n",
              "    <tr>\n",
              "      <td>9</td>\n",
              "      <td>0.028600</td>\n",
              "      <td>0.422649</td>\n",
              "      <td>0.928774</td>\n",
              "      <td>[0.9611307420494699, 0.9554896142433235, 0.8950524737631185, 0.9232111692844677, 0.9392523364485982, 0.9451287793952967, 0.9]</td>\n",
              "      <td>[0.9543859649122807, 0.9698795180722891, 0.9059180576631259, 0.92, 0.904047976011994, 0.9525959367945824, 0.9171974522292994]</td>\n",
              "      <td>[0.9577464788732394, 0.9626307922272048, 0.9004524886877829, 0.921602787456446, 0.9213139801375096, 0.9488476672287802, 0.9085173501577287]</td>\n",
              "    </tr>\n",
              "    <tr>\n",
              "      <td>10</td>\n",
              "      <td>0.028900</td>\n",
              "      <td>0.431525</td>\n",
              "      <td>0.928258</td>\n",
              "      <td>[0.951048951048951, 0.9611940298507463, 0.882179675994109, 0.9265734265734266, 0.9388714733542319, 0.9493243243243243, 0.9056603773584906]</td>\n",
              "      <td>[0.9543859649122807, 0.9698795180722891, 0.9089529590288316, 0.9217391304347826, 0.8980509745127436, 0.9514672686230248, 0.9171974522292994]</td>\n",
              "      <td>[0.9527145359019263, 0.9655172413793104, 0.8953662182361732, 0.9241499564080208, 0.918007662835249, 0.9503945885005637, 0.9113924050632911]</td>\n",
              "    </tr>\n",
              "  </tbody>\n",
              "</table><p>"
            ]
          },
          "metadata": {}
        },
        {
          "output_type": "stream",
          "name": "stderr",
          "text": [
            "Trainer is attempting to log a value of \"[0.97265625, 0.9040697674418605, 0.890728476821192, 0.8242811501597445, 0.8611111111111112, 0.8887722980062959, 0.9730392156862745]\" of type <class 'list'> for key \"eval/precision\" as a scalar. This invocation of Tensorboard's writer.add_scalar() is incorrect so we dropped this attribute.\n",
            "Trainer is attempting to log a value of \"[0.8736842105263158, 0.9367469879518072, 0.8163884673748103, 0.8973913043478261, 0.8830584707646177, 0.9559819413092551, 0.8428874734607219]\" of type <class 'list'> for key \"eval/recall\" as a scalar. This invocation of Tensorboard's writer.add_scalar() is incorrect so we dropped this attribute.\n",
            "Trainer is attempting to log a value of \"[0.9205175600739373, 0.9201183431952663, 0.8519398258115598, 0.8592839300582847, 0.8719467061435974, 0.921152800435019, 0.9032992036405004]\" of type <class 'list'> for key \"eval/f1\" as a scalar. This invocation of Tensorboard's writer.add_scalar() is incorrect so we dropped this attribute.\n",
            "Trainer is attempting to log a value of \"[0.9342560553633218, 0.9692307692307692, 0.8846153846153846, 0.9087779690189329, 0.9114114114114115, 0.94874715261959, 0.9260869565217391]\" of type <class 'list'> for key \"eval/precision\" as a scalar. This invocation of Tensorboard's writer.add_scalar() is incorrect so we dropped this attribute.\n",
            "Trainer is attempting to log a value of \"[0.9473684210526315, 0.9487951807228916, 0.9074355083459787, 0.9182608695652174, 0.9100449775112444, 0.9401805869074492, 0.9044585987261147]\" of type <class 'list'> for key \"eval/recall\" as a scalar. This invocation of Tensorboard's writer.add_scalar() is incorrect so we dropped this attribute.\n",
            "Trainer is attempting to log a value of \"[0.9407665505226481, 0.9589041095890412, 0.8958801498127341, 0.9134948096885813, 0.9107276819204801, 0.9444444444444444, 0.9151450053705692]\" of type <class 'list'> for key \"eval/f1\" as a scalar. This invocation of Tensorboard's writer.add_scalar() is incorrect so we dropped this attribute.\n",
            "Trainer is attempting to log a value of \"[0.9640287769784173, 0.9668674698795181, 0.8849557522123894, 0.9402173913043478, 0.9410852713178295, 0.9217391304347826, 0.9127659574468086]\" of type <class 'list'> for key \"eval/precision\" as a scalar. This invocation of Tensorboard's writer.add_scalar() is incorrect so we dropped this attribute.\n",
            "Trainer is attempting to log a value of \"[0.9403508771929825, 0.9668674698795181, 0.9104704097116844, 0.9026086956521739, 0.9100449775112444, 0.9571106094808126, 0.910828025477707]\" of type <class 'list'> for key \"eval/recall\" as a scalar. This invocation of Tensorboard's writer.add_scalar() is incorrect so we dropped this attribute.\n",
            "Trainer is attempting to log a value of \"[0.9520426287744227, 0.9668674698795181, 0.8975317875841436, 0.9210292812777285, 0.9253048780487806, 0.9390919158361019, 0.9117959617428268]\" of type <class 'list'> for key \"eval/f1\" as a scalar. This invocation of Tensorboard's writer.add_scalar() is incorrect so we dropped this attribute.\n",
            "Trainer is attempting to log a value of \"[0.9075907590759076, 0.9690402476780186, 0.9035222052067381, 0.9142367066895368, 0.95, 0.9355555555555556, 0.8823529411764706]\" of type <class 'list'> for key \"eval/precision\" as a scalar. This invocation of Tensorboard's writer.add_scalar() is incorrect so we dropped this attribute.\n",
            "Trainer is attempting to log a value of \"[0.9649122807017544, 0.9427710843373494, 0.8952959028831563, 0.9269565217391305, 0.8830584707646177, 0.9503386004514672, 0.9235668789808917]\" of type <class 'list'> for key \"eval/recall\" as a scalar. This invocation of Tensorboard's writer.add_scalar() is incorrect so we dropped this attribute.\n",
            "Trainer is attempting to log a value of \"[0.9353741496598639, 0.9557251908396946, 0.899390243902439, 0.920552677029361, 0.9153069153069152, 0.942889137737962, 0.9024896265560166]\" of type <class 'list'> for key \"eval/f1\" as a scalar. This invocation of Tensorboard's writer.add_scalar() is incorrect so we dropped this attribute.\n",
            "Trainer is attempting to log a value of \"[0.967391304347826, 0.9697885196374623, 0.9019607843137255, 0.9155172413793103, 0.9492063492063492, 0.9390243902439024, 0.8843813387423936]\" of type <class 'list'> for key \"eval/precision\" as a scalar. This invocation of Tensorboard's writer.add_scalar() is incorrect so we dropped this attribute.\n",
            "Trainer is attempting to log a value of \"[0.9368421052631579, 0.9668674698795181, 0.9074355083459787, 0.9234782608695652, 0.896551724137931, 0.9559819413092551, 0.9256900212314225]\" of type <class 'list'> for key \"eval/recall\" as a scalar. This invocation of Tensorboard's writer.add_scalar() is incorrect so we dropped this attribute.\n",
            "Trainer is attempting to log a value of \"[0.9518716577540107, 0.9683257918552036, 0.9046898638426627, 0.9194805194805195, 0.9221279876638396, 0.9474272930648769, 0.9045643153526971]\" of type <class 'list'> for key \"eval/f1\" as a scalar. This invocation of Tensorboard's writer.add_scalar() is incorrect so we dropped this attribute.\n",
            "Trainer is attempting to log a value of \"[0.9712230215827338, 0.9670658682634731, 0.8628005657708628, 0.955719557195572, 0.9433070866141732, 0.9298245614035088, 0.9164882226980728]\" of type <class 'list'> for key \"eval/precision\" as a scalar. This invocation of Tensorboard's writer.add_scalar() is incorrect so we dropped this attribute.\n",
            "Trainer is attempting to log a value of \"[0.9473684210526315, 0.9728915662650602, 0.9256449165402124, 0.9008695652173913, 0.8980509745127436, 0.9571106094808126, 0.9087048832271762]\" of type <class 'list'> for key \"eval/recall\" as a scalar. This invocation of Tensorboard's writer.add_scalar() is incorrect so we dropped this attribute.\n",
            "Trainer is attempting to log a value of \"[0.9591474245115452, 0.96996996996997, 0.8931185944363104, 0.9274843330349148, 0.9201228878648232, 0.9432703003337041, 0.9125799573560769]\" of type <class 'list'> for key \"eval/f1\" as a scalar. This invocation of Tensorboard's writer.add_scalar() is incorrect so we dropped this attribute.\n",
            "Trainer is attempting to log a value of \"[0.9475524475524476, 0.9666666666666667, 0.8690647482014389, 0.9221453287197232, 0.9389671361502347, 0.9640371229698376, 0.8907216494845361]\" of type <class 'list'> for key \"eval/precision\" as a scalar. This invocation of Tensorboard's writer.add_scalar() is incorrect so we dropped this attribute.\n",
            "Trainer is attempting to log a value of \"[0.9508771929824561, 0.9608433734939759, 0.9165402124430956, 0.9269565217391305, 0.8995502248875562, 0.9379232505643341, 0.9171974522292994]\" of type <class 'list'> for key \"eval/recall\" as a scalar. This invocation of Tensorboard's writer.add_scalar() is incorrect so we dropped this attribute.\n",
            "Trainer is attempting to log a value of \"[0.9492119089316987, 0.9637462235649547, 0.8921713441654358, 0.9245446660884649, 0.9188361408882082, 0.9508009153318078, 0.9037656903765691]\" of type <class 'list'> for key \"eval/f1\" as a scalar. This invocation of Tensorboard's writer.add_scalar() is incorrect so we dropped this attribute.\n",
            "Trainer is attempting to log a value of \"[0.9645390070921985, 0.95, 0.882525697503671, 0.9391771019677997, 0.940625, 0.9495515695067265, 0.8981288981288982]\" of type <class 'list'> for key \"eval/precision\" as a scalar. This invocation of Tensorboard's writer.add_scalar() is incorrect so we dropped this attribute.\n",
            "Trainer is attempting to log a value of \"[0.9543859649122807, 0.9728915662650602, 0.9119878603945372, 0.9130434782608695, 0.9025487256371814, 0.9559819413092551, 0.9171974522292994]\" of type <class 'list'> for key \"eval/recall\" as a scalar. This invocation of Tensorboard's writer.add_scalar() is incorrect so we dropped this attribute.\n",
            "Trainer is attempting to log a value of \"[0.9594356261022927, 0.9613095238095238, 0.8970149253731343, 0.9259259259259259, 0.9211935730680948, 0.952755905511811, 0.907563025210084]\" of type <class 'list'> for key \"eval/f1\" as a scalar. This invocation of Tensorboard's writer.add_scalar() is incorrect so we dropped this attribute.\n",
            "Trainer is attempting to log a value of \"[0.9611307420494699, 0.9554896142433235, 0.8950524737631185, 0.9232111692844677, 0.9392523364485982, 0.9451287793952967, 0.9]\" of type <class 'list'> for key \"eval/precision\" as a scalar. This invocation of Tensorboard's writer.add_scalar() is incorrect so we dropped this attribute.\n",
            "Trainer is attempting to log a value of \"[0.9543859649122807, 0.9698795180722891, 0.9059180576631259, 0.92, 0.904047976011994, 0.9525959367945824, 0.9171974522292994]\" of type <class 'list'> for key \"eval/recall\" as a scalar. This invocation of Tensorboard's writer.add_scalar() is incorrect so we dropped this attribute.\n",
            "Trainer is attempting to log a value of \"[0.9577464788732394, 0.9626307922272048, 0.9004524886877829, 0.921602787456446, 0.9213139801375096, 0.9488476672287802, 0.9085173501577287]\" of type <class 'list'> for key \"eval/f1\" as a scalar. This invocation of Tensorboard's writer.add_scalar() is incorrect so we dropped this attribute.\n",
            "Trainer is attempting to log a value of \"[0.951048951048951, 0.9611940298507463, 0.882179675994109, 0.9265734265734266, 0.9388714733542319, 0.9493243243243243, 0.9056603773584906]\" of type <class 'list'> for key \"eval/precision\" as a scalar. This invocation of Tensorboard's writer.add_scalar() is incorrect so we dropped this attribute.\n",
            "Trainer is attempting to log a value of \"[0.9543859649122807, 0.9698795180722891, 0.9089529590288316, 0.9217391304347826, 0.8980509745127436, 0.9514672686230248, 0.9171974522292994]\" of type <class 'list'> for key \"eval/recall\" as a scalar. This invocation of Tensorboard's writer.add_scalar() is incorrect so we dropped this attribute.\n",
            "Trainer is attempting to log a value of \"[0.9527145359019263, 0.9655172413793104, 0.8953662182361732, 0.9241499564080208, 0.918007662835249, 0.9503945885005637, 0.9113924050632911]\" of type <class 'list'> for key \"eval/f1\" as a scalar. This invocation of Tensorboard's writer.add_scalar() is incorrect so we dropped this attribute.\n"
          ]
        },
        {
          "output_type": "execute_result",
          "data": {
            "text/plain": [
              "TrainOutput(global_step=9690, training_loss=0.19104553956857528, metrics={'train_runtime': 3440.1383, 'train_samples_per_second': 45.053, 'train_steps_per_second': 2.817, 'total_flos': 4.0781413187328e+16, 'train_loss': 0.19104553956857528, 'epoch': 10.0})"
            ]
          },
          "metadata": {},
          "execution_count": 7
        }
      ]
    },
    {
      "cell_type": "code",
      "source": [
        "model.save_pretrained('./klue_senti')\n",
        "tokenizer.save_pretrained('./klue_senti')"
      ],
      "metadata": {
        "colab": {
          "base_uri": "https://localhost:8080/"
        },
        "id": "IUrRwkLsyiUO",
        "outputId": "5638f288-8d03-4f07-96d8-f2fd8abffa4f"
      },
      "execution_count": 8,
      "outputs": [
        {
          "output_type": "execute_result",
          "data": {
            "text/plain": [
              "('./klue_senti/tokenizer_config.json',\n",
              " './klue_senti/special_tokens_map.json',\n",
              " './klue_senti/vocab.txt',\n",
              " './klue_senti/added_tokens.json',\n",
              " './klue_senti/tokenizer.json')"
            ]
          },
          "metadata": {},
          "execution_count": 8
        }
      ]
    },
    {
      "cell_type": "code",
      "source": [
        "import os\n",
        "import shutil\n",
        "\n",
        "source_path      = '/content/klue_senti'\n",
        "destination_path = '/content/drive/MyDrive/klue_senti'\n",
        "\n",
        "if not os.path.exists(destination_path):\n",
        "    os.makedirs(destination_path)\n",
        "\n",
        "# source_path 경로에 있는 모든 파일과 폴더를 이동\n",
        "for filename in os.listdir(source_path):\n",
        "    file_path = os.path.join(source_path, filename)\n",
        "    if os.path.isfile(file_path) or os.path.isdir(file_path):\n",
        "        shutil.move(file_path, destination_path)"
      ],
      "metadata": {
        "id": "rp4fYH4ayqrN"
      },
      "execution_count": 9,
      "outputs": []
    },
    {
      "cell_type": "code",
      "source": [
        "tokenized_datasets[\"train\"]"
      ],
      "metadata": {
        "colab": {
          "base_uri": "https://localhost:8080/"
        },
        "id": "Sxv60uIXCEp5",
        "outputId": "a52a0d52-91e1-4de6-cf0f-cf117b9d425a"
      },
      "execution_count": 13,
      "outputs": [
        {
          "output_type": "execute_result",
          "data": {
            "text/plain": [
              "Dataset({\n",
              "    features: ['text', 'label', 'input_ids', 'token_type_ids', 'attention_mask'],\n",
              "    num_rows: 15499\n",
              "})"
            ]
          },
          "metadata": {},
          "execution_count": 13
        }
      ]
    }
  ]
}