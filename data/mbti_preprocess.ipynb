{
 "cells": [
  {
   "cell_type": "code",
   "execution_count": 2,
   "metadata": {},
   "outputs": [],
   "source": [
    "import pandas as pd"
   ]
  },
  {
   "cell_type": "code",
   "execution_count": 3,
   "metadata": {},
   "outputs": [
    {
     "data": {
      "text/html": [
       "<div>\n",
       "<style scoped>\n",
       "    .dataframe tbody tr th:only-of-type {\n",
       "        vertical-align: middle;\n",
       "    }\n",
       "\n",
       "    .dataframe tbody tr th {\n",
       "        vertical-align: top;\n",
       "    }\n",
       "\n",
       "    .dataframe thead th {\n",
       "        text-align: right;\n",
       "    }\n",
       "</style>\n",
       "<table border=\"1\" class=\"dataframe\">\n",
       "  <thead>\n",
       "    <tr style=\"text-align: right;\">\n",
       "      <th></th>\n",
       "      <th>text</th>\n",
       "      <th>mbti</th>\n",
       "    </tr>\n",
       "  </thead>\n",
       "  <tbody>\n",
       "    <tr>\n",
       "      <th>0</th>\n",
       "      <td>약간 로망..[SEP]처럼 옥탑방에 살아보고 싶단 생각이 있는데 (몇 개월이라도) ...</td>\n",
       "      <td>enfj</td>\n",
       "    </tr>\n",
       "    <tr>\n",
       "      <th>1</th>\n",
       "      <td>라고 하기에 제가 가장 가까이서 본 사람이러[SEP]그런 맘은 아니었다고 좋게 댓글...</td>\n",
       "      <td>enfj</td>\n",
       "    </tr>\n",
       "    <tr>\n",
       "      <th>2</th>\n",
       "      <td>이 팁이 에프 제인 저보다 그것도 초면에 말이 많아서 제 말을 끊을 정도라니,,, ...</td>\n",
       "      <td>enfj</td>\n",
       "    </tr>\n",
       "    <tr>\n",
       "      <th>3</th>\n",
       "      <td>저는 고등학생이라,, 현금보다는 다른 의미 있는 걸 해드리고 싶어서요 주말에 식사 ...</td>\n",
       "      <td>enfj</td>\n",
       "    </tr>\n",
       "    <tr>\n",
       "      <th>4</th>\n",
       "      <td>너무 포괄적 질문이긴 한데 한 달에 요즘 얼마 버나요?[SEP]15년 전 아는 언니...</td>\n",
       "      <td>enfj</td>\n",
       "    </tr>\n",
       "    <tr>\n",
       "      <th>...</th>\n",
       "      <td>...</td>\n",
       "      <td>...</td>\n",
       "    </tr>\n",
       "    <tr>\n",
       "      <th>20936</th>\n",
       "      <td>말하지 않아도 느껴야 했던 부분이고, 그걸 모르는 그 사람의 문제여야 하지, 참고 ...</td>\n",
       "      <td>istp</td>\n",
       "    </tr>\n",
       "    <tr>\n",
       "      <th>20937</th>\n",
       "      <td>상황이 어떻게 돌아가든 잘 되든 못되든 고민은 누구나 다 있는 듯요.[SEP] 진짜...</td>\n",
       "      <td>istp</td>\n",
       "    </tr>\n",
       "    <tr>\n",
       "      <th>20938</th>\n",
       "      <td>어릴 때부터 그랬는데 나이 들면 바뀐다[SEP] 결혼하면 바뀐다[SEP] 자기 애 ...</td>\n",
       "      <td>istp</td>\n",
       "    </tr>\n",
       "    <tr>\n",
       "      <th>20939</th>\n",
       "      <td>얘기가 딴 데로 샜는데 -a로 나오는 istp하고 에 팁은 어떤지 너무 궁금해요 [...</td>\n",
       "      <td>istp</td>\n",
       "    </tr>\n",
       "    <tr>\n",
       "      <th>20940</th>\n",
       "      <td>서로 아등바등 싸우는 것도 없고 질 나쁜 글이 올라오는 것도 아니고요 그냥 서로의 ...</td>\n",
       "      <td>istp</td>\n",
       "    </tr>\n",
       "  </tbody>\n",
       "</table>\n",
       "<p>20941 rows × 2 columns</p>\n",
       "</div>"
      ],
      "text/plain": [
       "                                                    text  mbti\n",
       "0      약간 로망..[SEP]처럼 옥탑방에 살아보고 싶단 생각이 있는데 (몇 개월이라도) ...  enfj\n",
       "1      라고 하기에 제가 가장 가까이서 본 사람이러[SEP]그런 맘은 아니었다고 좋게 댓글...  enfj\n",
       "2      이 팁이 에프 제인 저보다 그것도 초면에 말이 많아서 제 말을 끊을 정도라니,,, ...  enfj\n",
       "3      저는 고등학생이라,, 현금보다는 다른 의미 있는 걸 해드리고 싶어서요 주말에 식사 ...  enfj\n",
       "4      너무 포괄적 질문이긴 한데 한 달에 요즘 얼마 버나요?[SEP]15년 전 아는 언니...  enfj\n",
       "...                                                  ...   ...\n",
       "20936  말하지 않아도 느껴야 했던 부분이고, 그걸 모르는 그 사람의 문제여야 하지, 참고 ...  istp\n",
       "20937  상황이 어떻게 돌아가든 잘 되든 못되든 고민은 누구나 다 있는 듯요.[SEP] 진짜...  istp\n",
       "20938  어릴 때부터 그랬는데 나이 들면 바뀐다[SEP] 결혼하면 바뀐다[SEP] 자기 애 ...  istp\n",
       "20939  얘기가 딴 데로 샜는데 -a로 나오는 istp하고 에 팁은 어떤지 너무 궁금해요 [...  istp\n",
       "20940  서로 아등바등 싸우는 것도 없고 질 나쁜 글이 올라오는 것도 아니고요 그냥 서로의 ...  istp\n",
       "\n",
       "[20941 rows x 2 columns]"
      ]
     },
     "execution_count": 3,
     "metadata": {},
     "output_type": "execute_result"
    }
   ],
   "source": [
    "df = pd.read_csv('./mbti_datasets_1.csv')\n",
    "\n",
    "df"
   ]
  },
  {
   "cell_type": "code",
   "execution_count": 4,
   "metadata": {},
   "outputs": [
    {
     "data": {
      "text/plain": [
       "array(['enfj', 'enfp', 'entj', 'entp', 'esfj', 'esfp', 'estj', 'estp',\n",
       "       'infj', 'infp', 'intj', 'intp', 'isfj', 'isfp', 'istj', 'istp'],\n",
       "      dtype=object)"
      ]
     },
     "execution_count": 4,
     "metadata": {},
     "output_type": "execute_result"
    }
   ],
   "source": [
    "df['mbti'].unique()"
   ]
  },
  {
   "cell_type": "code",
   "execution_count": 6,
   "metadata": {},
   "outputs": [
    {
     "data": {
      "text/plain": [
       "enfp    1662\n",
       "entp    1662\n",
       "infj    1662\n",
       "infp    1662\n",
       "intj    1662\n",
       "intp    1662\n",
       "isfp    1662\n",
       "istp    1662\n",
       "isfj    1414\n",
       "entj    1385\n",
       "istj    1295\n",
       "enfj    1235\n",
       "estp     636\n",
       "estj     597\n",
       "esfj     562\n",
       "esfp     521\n",
       "Name: mbti, dtype: int64"
      ]
     },
     "execution_count": 6,
     "metadata": {},
     "output_type": "execute_result"
    }
   ],
   "source": [
    "df['mbti'].value_counts()"
   ]
  },
  {
   "cell_type": "code",
   "execution_count": 15,
   "metadata": {},
   "outputs": [
    {
     "name": "stderr",
     "output_type": "stream",
     "text": [
      "/tmp/ipykernel_20352/2780089132.py:1: FutureWarning: The default value of regex will change from True to False in a future version.\n",
      "  df['text'] = df['text'].str.replace('[SEP]', '')\n"
     ]
    },
    {
     "data": {
      "text/plain": [
       "'약간 로망..처럼 옥탑방에 살아보고 싶단 생각이 있는데 (몇 개월이라도) 나만의 옥상에서 테이블 놓고 한잔하고 기분 좋을 거 같거든요 ㅎㅎ옥탑방 단점이 여름엔 너무 덥고 겨울에는 너무 춥다는데 이게 심할 정도 수준인지 살아보신 분이나 지인 집 가본 분들 어떠셨어요~??'"
      ]
     },
     "execution_count": 15,
     "metadata": {},
     "output_type": "execute_result"
    }
   ],
   "source": [
    "df['text'] = df['text'].str.replace('[SEP]', '')\n",
    "\n",
    "df['text'][0]"
   ]
  },
  {
   "cell_type": "code",
   "execution_count": 17,
   "metadata": {},
   "outputs": [
    {
     "data": {
      "text/plain": [
       "{'enfj': 0,\n",
       " 'enfp': 1,\n",
       " 'entj': 2,\n",
       " 'entp': 3,\n",
       " 'esfj': 4,\n",
       " 'esfp': 5,\n",
       " 'estj': 6,\n",
       " 'estp': 7,\n",
       " 'infj': 8,\n",
       " 'infp': 9,\n",
       " 'intj': 10,\n",
       " 'intp': 11,\n",
       " 'isfj': 12,\n",
       " 'isfp': 13,\n",
       " 'istj': 14,\n",
       " 'istp': 15}"
      ]
     },
     "execution_count": 17,
     "metadata": {},
     "output_type": "execute_result"
    }
   ],
   "source": [
    "idx = 0\n",
    "mbtis = {}\n",
    "\n",
    "for mbti in df['mbti'].unique():\n",
    "    mbtis[mbti] = idx\n",
    "    idx += 1\n",
    "\n",
    "mbtis"
   ]
  },
  {
   "cell_type": "code",
   "execution_count": 18,
   "metadata": {},
   "outputs": [
    {
     "data": {
      "text/html": [
       "<div>\n",
       "<style scoped>\n",
       "    .dataframe tbody tr th:only-of-type {\n",
       "        vertical-align: middle;\n",
       "    }\n",
       "\n",
       "    .dataframe tbody tr th {\n",
       "        vertical-align: top;\n",
       "    }\n",
       "\n",
       "    .dataframe thead th {\n",
       "        text-align: right;\n",
       "    }\n",
       "</style>\n",
       "<table border=\"1\" class=\"dataframe\">\n",
       "  <thead>\n",
       "    <tr style=\"text-align: right;\">\n",
       "      <th></th>\n",
       "      <th>text</th>\n",
       "      <th>mbti</th>\n",
       "    </tr>\n",
       "  </thead>\n",
       "  <tbody>\n",
       "    <tr>\n",
       "      <th>0</th>\n",
       "      <td>약간 로망..처럼 옥탑방에 살아보고 싶단 생각이 있는데 (몇 개월이라도) 나만의 옥...</td>\n",
       "      <td>0</td>\n",
       "    </tr>\n",
       "    <tr>\n",
       "      <th>1</th>\n",
       "      <td>라고 하기에 제가 가장 가까이서 본 사람이러그런 맘은 아니었다고 좋게 댓글 달아도....</td>\n",
       "      <td>0</td>\n",
       "    </tr>\n",
       "    <tr>\n",
       "      <th>2</th>\n",
       "      <td>이 팁이 에프 제인 저보다 그것도 초면에 말이 많아서 제 말을 끊을 정도라니,,, ...</td>\n",
       "      <td>0</td>\n",
       "    </tr>\n",
       "    <tr>\n",
       "      <th>3</th>\n",
       "      <td>저는 고등학생이라,, 현금보다는 다른 의미 있는 걸 해드리고 싶어서요 주말에 식사 ...</td>\n",
       "      <td>0</td>\n",
       "    </tr>\n",
       "    <tr>\n",
       "      <th>4</th>\n",
       "      <td>너무 포괄적 질문이긴 한데 한 달에 요즘 얼마 버나요?15년 전 아는 언니가 딸기농...</td>\n",
       "      <td>0</td>\n",
       "    </tr>\n",
       "    <tr>\n",
       "      <th>...</th>\n",
       "      <td>...</td>\n",
       "      <td>...</td>\n",
       "    </tr>\n",
       "    <tr>\n",
       "      <th>20936</th>\n",
       "      <td>말하지 않아도 느껴야 했던 부분이고, 그걸 모르는 그 사람의 문제여야 하지, 참고 ...</td>\n",
       "      <td>15</td>\n",
       "    </tr>\n",
       "    <tr>\n",
       "      <th>20937</th>\n",
       "      <td>상황이 어떻게 돌아가든 잘 되든 못되든 고민은 누구나 다 있는 듯요. 진짜 앞으로 ...</td>\n",
       "      <td>15</td>\n",
       "    </tr>\n",
       "    <tr>\n",
       "      <th>20938</th>\n",
       "      <td>어릴 때부터 그랬는데 나이 들면 바뀐다 결혼하면 바뀐다 자기 애 낳으면 안 그렇다 ...</td>\n",
       "      <td>15</td>\n",
       "    </tr>\n",
       "    <tr>\n",
       "      <th>20939</th>\n",
       "      <td>얘기가 딴 데로 샜는데 -a로 나오는 istp하고 에 팁은 어떤지 너무 궁금해요  ...</td>\n",
       "      <td>15</td>\n",
       "    </tr>\n",
       "    <tr>\n",
       "      <th>20940</th>\n",
       "      <td>서로 아등바등 싸우는 것도 없고 질 나쁜 글이 올라오는 것도 아니고요 그냥 서로의 ...</td>\n",
       "      <td>15</td>\n",
       "    </tr>\n",
       "  </tbody>\n",
       "</table>\n",
       "<p>20941 rows × 2 columns</p>\n",
       "</div>"
      ],
      "text/plain": [
       "                                                    text  mbti\n",
       "0      약간 로망..처럼 옥탑방에 살아보고 싶단 생각이 있는데 (몇 개월이라도) 나만의 옥...     0\n",
       "1      라고 하기에 제가 가장 가까이서 본 사람이러그런 맘은 아니었다고 좋게 댓글 달아도....     0\n",
       "2      이 팁이 에프 제인 저보다 그것도 초면에 말이 많아서 제 말을 끊을 정도라니,,, ...     0\n",
       "3      저는 고등학생이라,, 현금보다는 다른 의미 있는 걸 해드리고 싶어서요 주말에 식사 ...     0\n",
       "4      너무 포괄적 질문이긴 한데 한 달에 요즘 얼마 버나요?15년 전 아는 언니가 딸기농...     0\n",
       "...                                                  ...   ...\n",
       "20936  말하지 않아도 느껴야 했던 부분이고, 그걸 모르는 그 사람의 문제여야 하지, 참고 ...    15\n",
       "20937  상황이 어떻게 돌아가든 잘 되든 못되든 고민은 누구나 다 있는 듯요. 진짜 앞으로 ...    15\n",
       "20938  어릴 때부터 그랬는데 나이 들면 바뀐다 결혼하면 바뀐다 자기 애 낳으면 안 그렇다 ...    15\n",
       "20939  얘기가 딴 데로 샜는데 -a로 나오는 istp하고 에 팁은 어떤지 너무 궁금해요  ...    15\n",
       "20940  서로 아등바등 싸우는 것도 없고 질 나쁜 글이 올라오는 것도 아니고요 그냥 서로의 ...    15\n",
       "\n",
       "[20941 rows x 2 columns]"
      ]
     },
     "execution_count": 18,
     "metadata": {},
     "output_type": "execute_result"
    }
   ],
   "source": [
    "df['mbti'] = df['mbti'].map(mbtis)\n",
    "\n",
    "df"
   ]
  },
  {
   "cell_type": "code",
   "execution_count": 21,
   "metadata": {},
   "outputs": [],
   "source": [
    "df.to_csv('mbti_labeling.csv', encoding='UTF-8', index=False)"
   ]
  }
 ],
 "metadata": {
  "kernelspec": {
   "display_name": "Python 3",
   "language": "python",
   "name": "python3"
  },
  "language_info": {
   "codemirror_mode": {
    "name": "ipython",
    "version": 3
   },
   "file_extension": ".py",
   "mimetype": "text/x-python",
   "name": "python",
   "nbconvert_exporter": "python",
   "pygments_lexer": "ipython3",
   "version": "3.10.12"
  }
 },
 "nbformat": 4,
 "nbformat_minor": 2
}
